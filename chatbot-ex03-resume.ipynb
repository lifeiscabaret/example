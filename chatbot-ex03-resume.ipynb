{
 "cells": [
  {
   "cell_type": "markdown",
   "id": "7efa0da7",
   "metadata": {},
   "source": [
    "# [문제] Managing History\n",
    "-trim messages()\n",
    "-RunnablePassthrough\n",
    "-itemgetter()\n",
    "\n",
    "세션ID 설정하고, 대화를 진행합니다. (multi-turn conversation)\n",
    "LLM 모델이 과거 대화를 알지(기억) 못하는 상황을 만드세요."
   ]
  },
  {
   "cell_type": "code",
   "execution_count": null,
   "id": "0a3e2c27",
   "metadata": {},
   "outputs": [
    {
     "data": {
      "text/plain": [
       "True"
      ]
     },
     "execution_count": 2,
     "metadata": {},
     "output_type": "execute_result"
    }
   ],
   "source": [
    "from operator import itemgetter\n",
    "from dotenv import load_dotenv\n",
    "from langchain_openai import ChatOpenAI\n",
    "from langchain.callbacks.streaming_stdout import StreamingStdOutCallbackHandler\n",
    "from langchain_core.messages import trim_messages\n",
    "from langchain_core.runnables import RunnablePassthrough\n",
    "from langchain_core.runnables.history import RunnableWithMessageHistory\n",
    "from langchain_core.prompts import ChatPromptTemplate\n",
    "from langchain_core.prompts import MessagesPlaceholder\n",
    "from langchain_core.chat_history import ( \n",
    "  InMemoryChatMessageHistory, \n",
    "  BaseChatMessageHistory\n",
    ")\n",
    "\n",
    "# 2) .env 파일에서 환경변수 읽어오기\n",
    "load_dotenv()\n",
    "\n",
    "# 3) 세션별 대화 히스토리를 저장할 임시 메모리 저장소\n",
    "store = {}\n",
    "\n",
    "\n",
    "# 4) 함수 정의: 세션 ID에 따라 대화 히스토리 반환\n",
    "\n",
    "def get_history(session_id: str) -> BaseChatMessageHistory:\n",
    "    if session_id not in store:\n",
    "        store[session_id] = InMemoryChatMessageHistory()\n",
    "    return store[session_id]\n",
    "\n",
    "\n",
    "# 5) prompt template 정의\n",
    "messages=[\n",
    "    ('system','''당신은 이력서 작성 컨설턴트입니다.\n",
    "사용자가 제공한 정보를 바탕으로 자연스럽고 완성도 높은 이력서를 작성합니다.'''),\n",
    "    ('placeholder', '{chat_history}'),\n",
    "# ('user','이름:{name}\\n경력:{experience}\\n기술:{skills}')\n",
    "    ('user','{query}') #사용자 질문을 하나의 변수로 넣어줘야함.\n",
    "]\n",
    "\n",
    "\n",
    "prompt = ChatPromptTemplate.from_messages(messages)\n",
    "\n",
    "\n",
    "# 6) ChatOpenAI 인스턴스 생성: 모델 생성\n",
    "llm=ChatOpenAI(\n",
    "    model='gpt-4o',\n",
    "    streaming=True,\n",
    "    callbacks=[StreamingStdOutCallbackHandler()],\n",
    ")\n",
    "\n",
    "\n",
    "# 7) trim 설정\n",
    "trimmer = trim_messages(\n",
    "    max_tokens=65,\n",
    "    strategy='last',\n",
    "    token_counter=llm,\n",
    "    include_system=True,\n",
    "    allow_partial=False,\n",
    "    start_on='human',\n",
    ")\n",
    "\n",
    "\n",
    "# 8) chain 구성\n",
    "chain = (\n",
    "    RunnablePassthrough.assign(chat_history=itemgetter('chat_history') | trimmer)\n",
    "    | prompt \n",
    "    | llm\n",
    "    )\n",
    "\n",
    "# 9) chain에 대화 히스토리 기능을 래핑해서 추가 \n",
    "with_message_history = RunnableWithMessageHistory( \n",
    "    chain, \n",
    "    get_history,\n",
    "    input_messages_key='query',\n",
    "    history_messages_key='chat_history'\n",
    ")\n",
    "\n",
    "\n",
    "# 10) chain 실행\n",
    "while True:\n",
    "    query = input('이력서 작성 컨설턴트입니다. 질문하세요. [종료: S] >>>')\n",
    "\n",
    "    if query.upper() == 'S':\n",
    "        break\n",
    "\n",
    "\n",
    "\n",
    "\n",
    "    with_message_history.invoke(\n",
    "        {'query': query},\n",
    "        config={'configurable': {'session_id':'ilovejibong'}}\n",
    "    ) \n",
    "\n",
    "    print('\\n'+'='*100+'\\n')"
   ]
  },
  {
   "cell_type": "code",
   "execution_count": 44,
   "id": "5cf98d89",
   "metadata": {},
   "outputs": [
    {
     "name": "stdout",
     "output_type": "stream",
     "text": [
      "[HUMAN]: 내 이름은 이히빈, 나이는 26살 지원분야는 멀티미디어컨텐츠전문가야 보유능력은 포토샵 1급, 일러스트 2급, 프리미어프로, 애프터이펙트 중급이상 가능 번외로 중학생때 미국 유학을 갔다와서 영어프리토킹 가능해\n",
      "\n",
      "[AI]: **이히빈 이력서**\n",
      "\n",
      "---\n",
      "\n",
      "**개인 정보**\n",
      "\n",
      "- **이름:** 이히빈\n",
      "- **나이:** 26세\n",
      "- **연락처:** [연락처 입력]\n",
      "- **이메일:** [이메일 입력]\n",
      "\n",
      "---\n",
      "\n",
      "**지원 분야**\n",
      "\n",
      "- **멀티미디어 컨텐츠 전문가**\n",
      "\n",
      "---\n",
      "\n",
      "**보유 능력**\n",
      "\n",
      "- **그래픽 디자인 및 영상 편집**\n",
      "  - 어도비 포토샵 1급\n",
      "  - 어도비 일러스트레이터 2급\n",
      "  - 어도비 프리미어 프로 중급 이상\n",
      "  - 어도비 애프터 이펙트 중급 이상\n",
      "\n",
      "- **언어 능력**\n",
      "  - 영어 프리토킹 가능 (중학생 시절 미국 유학 경험)\n",
      "\n",
      "---\n",
      "\n",
      "**경력 및 활동**\n",
      "\n",
      "- [회사명/기관명], [직위], [근무기간]  \n",
      "  - [담당 업무 및 성과 기술]\n",
      "  \n",
      "- [프로젝트명], [역할], [기간]  \n",
      "  - [프로젝트 설명 및 기여도]\n",
      "\n",
      "---\n",
      "\n",
      "**학력**\n",
      "\n",
      "- [대학교명], [전공], [졸업 연도]\n",
      "  - [유관 과목 및 성적]\n",
      "\n",
      "- [고등학교명], [졸업 연도]\n",
      "\n",
      "---\n",
      "\n",
      "**추가 정보**\n",
      "\n",
      "- 멀티미디어 콘테스트 [수상 경력] (년, 대회 이름)\n",
      "- [온라인 포트폴리오 링크 또는 성과물 링크]\n",
      "\n",
      "---\n",
      "\n",
      "이력서에 포함할 추가 정보를 제공해주시면 보다 완성된 문서를 작성할 수 있습니다. 궁금한 점이 있거나 수정할 사항이 있다면 언제든지 말씀해 주세요!\n",
      "\n",
      "[HUMAN]: 내 이름이 뭐라고?\n",
      "\n",
      "[AI]: 죄송하지만, 제공된 정보에서는 귀하의 이름을 알 수 없습니다. 이력서 작성을 원하시면 이름과 관련된 세부 정보를 제공해 주시기 바랍니다.\n",
      "\n"
     ]
    }
   ],
   "source": [
    "for message in get_history('ilovejibong').messages:\n",
    "    print(f'[{message.type.upper()}]: {message.content}\\n')"
   ]
  },
  {
   "cell_type": "code",
   "execution_count": 48,
   "id": "08896285",
   "metadata": {},
   "outputs": [
    {
     "name": "stdout",
     "output_type": "stream",
     "text": [
      "Variable                         Type                          Data/Info\n",
      "------------------------------------------------------------------------\n",
      "BaseChatMessageHistory           ABCMeta                       <class 'langchain_core.ch<...>.BaseChatMessageHistory'>\n",
      "ChatOpenAI                       ModelMetaclass                <class 'langchain_openai.<...>_models.base.ChatOpenAI'>\n",
      "ChatPromptTemplate               ModelMetaclass                <class 'langchain_core.pr<...>chat.ChatPromptTemplate'>\n",
      "InMemoryChatMessageHistory       ModelMetaclass                <class 'langchain_core.ch<...>emoryChatMessageHistory'>\n",
      "MessagesPlaceholder              ModelMetaclass                <class 'langchain_core.pr<...>hat.MessagesPlaceholder'>\n",
      "RunnablePassthrough              ModelMetaclass                <class 'langchain_core.ru<...>ugh.RunnablePassthrough'>\n",
      "RunnableWithMessageHistory       ModelMetaclass                <class 'langchain_core.ru<...>nableWithMessageHistory'>\n",
      "StreamingStdOutCallbackHandler   type                          <class 'langchain_core.ca<...>ngStdOutCallbackHandler'>\n",
      "chain                            RunnableSequence              first=RunnableAssign(mapp<...>ing=True, max_tokens=512)\n",
      "get_history                      function                      <function get_history at 0x00000208854FBD90>\n",
      "history                          InMemoryChatMessageHistory    Human: 내 이름은 홍길동이야.\\nAI: <...>높은 이력서를 작성하는 데 도움이 되겠습니다.\n",
      "i                                int                           13\n",
      "info                             int                           13\n",
      "itemgetter                       type                          <class 'operator.itemgetter'>\n",
      "llm                              ChatOpenAI                    callbacks=[<langchain_cor<...>aming=True max_tokens=512\n",
      "load_dotenv                      function                      <function load_dotenv at 0x00000208815A9AB0>\n",
      "message                          AIMessage                     content='죄송하지만, 제공된 정보에서는<...>4362-be17-64c88a4f0392-0'\n",
      "messages                         list                          n=3\n",
      "msg                              AIMessage                     content='죄송하지만 이름에 대한 정보를<...>44e9-ba4f-3a70934c72e7-0'\n",
      "prompt                           ChatPromptTemplate            input_variables=['query']<...>), additional_kwargs={})]\n",
      "query                            str                           S\n",
      "store                            dict                          n=2\n",
      "trim_messages                    function                      <function _runnable_suppo<...>ed at 0x000002088337C3A0>\n",
      "trimmer                          RunnableLambda                RunnableLambda(...)\n",
      "with_message_history             RunnableWithMessageHistory    bound=RunnableBinding(bou<...>True, dependencies=None)]\n"
     ]
    }
   ],
   "source": [
    "%whos\n"
   ]
  },
  {
   "cell_type": "code",
   "execution_count": 46,
   "id": "95580900",
   "metadata": {},
   "outputs": [
    {
     "data": {
      "text/plain": [
       "InMemoryChatMessageHistory(messages=[HumanMessage(content='내 이름은 이히빈, 나이는 26살 지원분야는 멀티미디어컨텐츠전문가야 보유능력은 포토샵 1급, 일러스트 2급, 프리미어프로, 애프터이펙트 중급이상 가능 번외로 중학생때 미국 유학을 갔다와서 영어프리토킹 가능해', additional_kwargs={}, response_metadata={}), AIMessage(content='**이히빈 이력서**\\n\\n---\\n\\n**개인 정보**\\n\\n- **이름:** 이히빈\\n- **나이:** 26세\\n- **연락처:** [연락처 입력]\\n- **이메일:** [이메일 입력]\\n\\n---\\n\\n**지원 분야**\\n\\n- **멀티미디어 컨텐츠 전문가**\\n\\n---\\n\\n**보유 능력**\\n\\n- **그래픽 디자인 및 영상 편집**\\n  - 어도비 포토샵 1급\\n  - 어도비 일러스트레이터 2급\\n  - 어도비 프리미어 프로 중급 이상\\n  - 어도비 애프터 이펙트 중급 이상\\n\\n- **언어 능력**\\n  - 영어 프리토킹 가능 (중학생 시절 미국 유학 경험)\\n\\n---\\n\\n**경력 및 활동**\\n\\n- [회사명/기관명], [직위], [근무기간]  \\n  - [담당 업무 및 성과 기술]\\n  \\n- [프로젝트명], [역할], [기간]  \\n  - [프로젝트 설명 및 기여도]\\n\\n---\\n\\n**학력**\\n\\n- [대학교명], [전공], [졸업 연도]\\n  - [유관 과목 및 성적]\\n\\n- [고등학교명], [졸업 연도]\\n\\n---\\n\\n**추가 정보**\\n\\n- 멀티미디어 콘테스트 [수상 경력] (년, 대회 이름)\\n- [온라인 포트폴리오 링크 또는 성과물 링크]\\n\\n---\\n\\n이력서에 포함할 추가 정보를 제공해주시면 보다 완성된 문서를 작성할 수 있습니다. 궁금한 점이 있거나 수정할 사항이 있다면 언제든지 말씀해 주세요!', additional_kwargs={}, response_metadata={'finish_reason': 'stop', 'model_name': 'gpt-4o-2024-08-06', 'system_fingerprint': 'fp_a288987b44', 'service_tier': 'default'}, id='run--c74721ca-e9d1-468e-ba74-6754ba62957c-0'), HumanMessage(content='내 이름이 뭐라고?', additional_kwargs={}, response_metadata={}), AIMessage(content='죄송하지만, 제공된 정보에서는 귀하의 이름을 알 수 없습니다. 이력서 작성을 원하시면 이름과 관련된 세부 정보를 제공해 주시기 바랍니다.', additional_kwargs={}, response_metadata={'finish_reason': 'stop', 'model_name': 'gpt-4o-2024-08-06', 'system_fingerprint': 'fp_07871e2ad8', 'service_tier': 'default'}, id='run--b326196c-8c08-4362-be17-64c88a4f0392-0')])"
      ]
     },
     "execution_count": 46,
     "metadata": {},
     "output_type": "execute_result"
    }
   ],
   "source": [
    "get_history('ilovejibong')\n"
   ]
  }
 ],
 "metadata": {
  "kernelspec": {
   "display_name": "project",
   "language": "python",
   "name": "python3"
  },
  "language_info": {
   "codemirror_mode": {
    "name": "ipython",
    "version": 3
   },
   "file_extension": ".py",
   "mimetype": "text/x-python",
   "name": "python",
   "nbconvert_exporter": "python",
   "pygments_lexer": "ipython3",
   "version": "3.10.12"
  }
 },
 "nbformat": 4,
 "nbformat_minor": 5
}
