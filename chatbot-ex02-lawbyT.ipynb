{
 "cells": [
  {
   "cell_type": "markdown",
   "id": "a88b5bb7",
   "metadata": {},
   "source": [
    "[문제] Managing Conversation History\n",
    "- trim_messages()\n",
    "- RunnablePassthrough \n",
    "- itemgetter()\n",
    "\n",
    "세션ID 설정하고, 대화를 진행합니다. (multi-turn conversation) \n",
    "LLM 모델이 과거 대화를 알지(기억) 못하는 상황을 만드세요."
   ]
  },
  {
   "cell_type": "code",
   "execution_count": 14,
   "id": "f93d76b8",
   "metadata": {},
   "outputs": [],
   "source": [
    "## 1. 모듈(파일, 라이브러리) 읽어오기\n",
    "from langchain_core.runnables.history import RunnableWithMessageHistory\n",
    "from langchain_core.chat_history import InMemoryChatMessageHistory, BaseChatMessageHistory\n",
    "from langchain_core.prompts import ChatPromptTemplate\n",
    "from langchain.callbacks.streaming_stdout import StreamingStdOutCallbackHandler\n",
    "from langchain_openai import ChatOpenAI\n",
    "\n",
    "from dotenv import load_dotenv\n",
    "\n",
    "\n",
    "## 2. 환경변수에 설정된 값 읽어오기\n",
    "load_dotenv()\n",
    "\n",
    "## 3. 파일 읽기\n",
    "file_name = '남녀고용평등과 일ㆍ가정 양립 지원에 관한 법률(법률)(제20521호)(20250223).txt'\n",
    "\n",
    "with open(file_name, 'r', encoding='utf-8') as file:\n",
    "    law = file.read()\n",
    "\n",
    "## 4. prompt 생성\n",
    "template = [\n",
    "    ('system', '''당신은 육아휴직 법률 전문가입니다.\n",
    "     아래 문서를 참고하여, 사용자 질문에 성실하게 답변합니다.\n",
    "     답변은 문서 내용을 기반으로 하되, 해당 조항도 표시합니다.\n",
    "     - 문서: {law}'''),\n",
    "     ('placeholder', '{chat_history}'),\n",
    "    ('user', '{query}')\n",
    "]\n",
    "\n",
    "prompt = ChatPromptTemplate.from_messages(template)\n",
    "\n"
   ]
  },
  {
   "cell_type": "code",
   "execution_count": null,
   "id": "3c902c07",
   "metadata": {},
   "outputs": [],
   "source": [
    "\n",
    "## 5. ChatOpenAI 인스턴스 생성\n",
    "llm = ChatOpenAI(\n",
    "    model='gpt-4o',\n",
    "    streaming=True,\n",
    "    callbacks=[StreamingStdOutCallbackHandler()],\n",
    "    max_tokens=512, ## 최대 출력\n",
    ")\n",
    "\n",
    "\n",
    "from langchain_core.messages import trim_messages\n",
    "\n",
    "\n",
    "## 6. trim 설정\n",
    "trimmer = trim_messages(\n",
    "    max_tokens=65,   ##최대 토큰 수 제한\n",
    "    strategy='last',  ##최근 메시지부터 시작해서 자르기\n",
    "    token_counter=llm,  ##모델 기준으로 토큰 수 계산\n",
    "    include_system=True,  ##시스템 메시지 포함\n",
    "    allow_partial=False, ##메시지 자르기 제한\n",
    "    start_on='human', ##human 메시지부터 자르기 시작\n",
    "\n",
    ")\n",
    "\n",
    "\n",
    "\n",
    "from langchain_core.runnables import RunnablePassthrough\n",
    "from operator import itemgetter\n",
    "\n",
    "## 6. chain 구성\n",
    "chain = (\n",
    "    RunnablePassthrough.assign(chat_history=itemgetter('chat_history') | trimmer)\n",
    "    | prompt \n",
    "    | llm\n",
    "    )\n",
    "\n",
    "## 7. 세션별 대화 이력(히스토리)을 저장할 임시 메모리 저장소\n",
    "store = {}\n",
    "\n",
    "## 8. 함수 정의: 대화 이력(히스토리) 인스턴스 리턴\n",
    "def get_history(session_id: str) -> BaseChatMessageHistory:\n",
    "    if session_id not in store:\n",
    "        store[session_id] = InMemoryChatMessageHistory()\n",
    "    return store[session_id]\n",
    "\n",
    "\n",
    "## 10. chain에 대화 이력(히스토리) 기능을 래핑해서 추가\n",
    "with_message_history = RunnableWithMessageHistory(\n",
    "    chain,\n",
    "    get_history,\n",
    "    history_messages_key='chat_history',\n",
    "    input_messages_key='query',\n",
    ")\n"
   ]
  },
  {
   "cell_type": "code",
   "execution_count": 22,
   "id": "b504756d",
   "metadata": {},
   "outputs": [
    {
     "name": "stdout",
     "output_type": "stream",
     "text": [
      "남녀고용평등과 일ㆍ가정 양립 지원에 관한 법률에 따르면, 육아휴직과 관련하여 국가에서 지원할 수 있는 주요 지원금은 다음과 같습니다.\n",
      "\n",
      "1. **육아휴직 급여**: 고용보험에서 지원되는 급여로, 근로자가 육아휴직을 사용하는 경우 경력단절을 방지하고 생활 안정을 위해 일정 금액이 지원됩니다.\n",
      "\n",
      "2. **고용유지비용 지원**: 국가는 사업주가 근로자에게 육아휴직이나 육아기 근로시간 단축을 허용한 경우, 그 근로자의 생계비용과 사업주의 고용유지비용의 일부를 지원할 수 있습니다 (제20조 제1항).\n",
      "\n",
      "3. **세제 및 재정 지원**: 국가는 소속 근로자의 일ㆍ가정의 양립을 지원하기 위해 육아기 재택근무 등 관련 제도 도입 시 세제 및 재정 지원을 할 수 있습니다 (제20조 제2항).\n",
      "\n",
      "이 외에도 직장어린이집 설치 및 운영에 대한 지원이 있으나, 이는 육아휴직 자체와 직접 관련된 지원금이라기보다는 일·가정 양립을 지원하는 제도로 볼 수 있습니다 (제21조, 제21조의2). \n",
      "\n",
      "위 지원내용은 육아휴직을 사용하는 근로자 및 사업주가 받을 수 있는 혜택을 중심으로 언급된 것으로, 구체적인 신청 절차나 세부 사항은 관련 기관에 문의하시길 권장합니다.\n",
      "==================================================\n",
      "\n",
      "육아휴직은 일반적으로 사업주가 허용하여야 하지만, 특정한 경우에는 이를 거절할 수 있습니다. 「남녀고용평등과 일ㆍ가정 양립 지원에 관한 법률」 제19조에 따르면 육아휴직은 임신 중인 여성 근로자 또는 만 8세 이하 또는 초등학교 2학년 이하의 자녀를 양육하기 위하여 신청하는 경우에 허용해야 합니다. 다만, 대통령령으로 정하는 경우에는 예외가 있습니다. 여기서 명시된 '대통령령으로 정하는 경우'는 구체적으로 적혀있지 않으므로, 법과 관련된 시행령 등에서 더 자세한 기준이 제시될 수 있습니다. 따라서, 육아휴직을 반려하는 구체적인 기준은 관련 대통령령을 참조하시면 확인할 수 있을 것입니다. \n",
      "\n",
      "(참고: 제19조 제1항)\n",
      "==================================================\n",
      "\n",
      "남녀고용평등법 자체는 4대보험에 대해 구체적으로 언급하고 있지 않습니다. 하지만 일반적으로 4대보험(국민연금, 건강보험, 고용보험, 산재보험)은 대한민국의 모든 근로자에게 적용됩니다. 각 보험은 별도의 법률에 의해 규정되며, 일반적으로 일정한 조건을 갖춘 사업장에서 근로하는 모든 직원에게 적용됩니다.\n",
      "\n",
      "남녀고용평등법 제3조에서는 이 법이 근로자를 사용하는 모든 사업 또는 사업장에 적용된다고 명시하고 있습니다. 다만, 대통령령으로 정하는 사업에 대하여는 이 법의 전부 또는 일부를 적용하지 않을 수 있는 예외 조항이 있습니다. 이와 유사하게 4대보험 역시 각 보험의 법령에서 특정 조건에 따라 가입 대상이나 예외 사항을 정하고 있습니다. \n",
      "\n",
      "따라서, 4대보험은 일반적으로 모든 사업장의 근로자에게 적용되지만, 각각의 보험법에서 명시한 조건과 예외 사항을 확인해야 합니다.\n",
      "==================================================\n",
      "\n"
     ]
    }
   ],
   "source": [
    "## 11. 실행\n",
    "while True:\n",
    "    query = input('육아휴직과 관련된 질문하세요 [종료 S]>>> ')\n",
    "    if query.upper() == 'S':\n",
    "        break\n",
    "\n",
    "\n",
    "\n",
    "\n",
    "    with_message_history.invoke(\n",
    "        {'law': law, 'query': query},\n",
    "        config={'configurable': {'session_id':'leeji0422'}}\n",
    "    ) \n",
    "\n",
    "    print('\\n'+'='*50+'\\n')"
   ]
  },
  {
   "cell_type": "code",
   "execution_count": 23,
   "id": "c7d60228",
   "metadata": {},
   "outputs": [
    {
     "data": {
      "text/plain": [
       "{'leeji0422': InMemoryChatMessageHistory(messages=[HumanMessage(content='입양을 한 경우에도 신청 가능할까요?', additional_kwargs={}, response_metadata={}), AIMessage(content='네, 입양한 자녀의 경우에도 육아휴직을 신청할 수 있습니다. [제19조(육아휴직) 제1항]에 따르면, 임신 중인 여성 근로자뿐만 아니라 만 8세 이하 또는 초등학교 2학년 이하의 자녀를 양육하기 위해서라면 육아휴직을 신청할 수 있으며, 입양한 자녀도 해당됩니다.', additional_kwargs={}, response_metadata={'finish_reason': 'stop', 'model_name': 'gpt-4o-2024-08-06', 'system_fingerprint': 'fp_07871e2ad8', 'service_tier': 'default'}, id='run--dd2c8392-443d-4b92-8de0-b52d29bb79c2-0'), HumanMessage(content='아이를 낳고 육아휴직 신청을 했는데, 그 사이에 아이를 하나 더 가질 경우 연속으로 육아휴직 신청 가능한가요?', additional_kwargs={}, response_metadata={}), AIMessage(content='네, 가능합니다. 육아휴직은 만 8세 이하 또는 초등학교 2학년 이하의 자녀를 양육하기 위하여 신청할 수 있으며, 각 자녀에 대해 육아휴직을 신청할 수 있습니다. 따라서 첫 아이의 육아휴직이 끝난 후 두 번째 아이에 대한 육아휴직을 연속적으로 신청할 수 있습니다. 이와 관련된 육아휴직 규정은 제19조에 명시되어 있습니다.', additional_kwargs={}, response_metadata={'finish_reason': 'stop', 'model_name': 'gpt-4o-2024-08-06', 'system_fingerprint': 'fp_07871e2ad8', 'service_tier': 'default'}, id='run--766e97e4-6ea2-4ce1-a3ee-594f7a6fbb7d-0'), HumanMessage(content='육아휴직으로 인한 정부지원금 종류가 뭐뭐 있나요', additional_kwargs={}, response_metadata={}), AIMessage(content='남녀고용평등과 일ㆍ가정 양립 지원에 관한 법률에 따르면, 육아휴직과 관련하여 국가에서 지원할 수 있는 주요 지원금은 다음과 같습니다.\\n\\n1. **육아휴직 급여**: 고용보험에서 지원되는 급여로, 근로자가 육아휴직을 사용하는 경우 경력단절을 방지하고 생활 안정을 위해 일정 금액이 지원됩니다.\\n\\n2. **고용유지비용 지원**: 국가는 사업주가 근로자에게 육아휴직이나 육아기 근로시간 단축을 허용한 경우, 그 근로자의 생계비용과 사업주의 고용유지비용의 일부를 지원할 수 있습니다 (제20조 제1항).\\n\\n3. **세제 및 재정 지원**: 국가는 소속 근로자의 일ㆍ가정의 양립을 지원하기 위해 육아기 재택근무 등 관련 제도 도입 시 세제 및 재정 지원을 할 수 있습니다 (제20조 제2항).\\n\\n이 외에도 직장어린이집 설치 및 운영에 대한 지원이 있으나, 이는 육아휴직 자체와 직접 관련된 지원금이라기보다는 일·가정 양립을 지원하는 제도로 볼 수 있습니다 (제21조, 제21조의2). \\n\\n위 지원내용은 육아휴직을 사용하는 근로자 및 사업주가 받을 수 있는 혜택을 중심으로 언급된 것으로, 구체적인 신청 절차나 세부 사항은 관련 기관에 문의하시길 권장합니다.', additional_kwargs={}, response_metadata={'finish_reason': 'stop', 'model_name': 'gpt-4o-2024-08-06', 'system_fingerprint': 'fp_07871e2ad8', 'service_tier': 'default'}, id='run--113ae678-818b-43b8-ac40-974792adc926-0'), HumanMessage(content='육아휴직이 반려되는 기준은?', additional_kwargs={}, response_metadata={}), AIMessage(content=\"육아휴직은 일반적으로 사업주가 허용하여야 하지만, 특정한 경우에는 이를 거절할 수 있습니다. 「남녀고용평등과 일ㆍ가정 양립 지원에 관한 법률」 제19조에 따르면 육아휴직은 임신 중인 여성 근로자 또는 만 8세 이하 또는 초등학교 2학년 이하의 자녀를 양육하기 위하여 신청하는 경우에 허용해야 합니다. 다만, 대통령령으로 정하는 경우에는 예외가 있습니다. 여기서 명시된 '대통령령으로 정하는 경우'는 구체적으로 적혀있지 않으므로, 법과 관련된 시행령 등에서 더 자세한 기준이 제시될 수 있습니다. 따라서, 육아휴직을 반려하는 구체적인 기준은 관련 대통령령을 참조하시면 확인할 수 있을 것입니다. \\n\\n(참고: 제19조 제1항)\", additional_kwargs={}, response_metadata={'finish_reason': 'stop', 'model_name': 'gpt-4o-2024-08-06', 'system_fingerprint': 'fp_07871e2ad8', 'service_tier': 'default'}, id='run--c22a8020-4ab5-411f-8845-95cc636a9dc1-0'), HumanMessage(content='4대보험을 가입한자는 어떤 업장이든 기준에 부합하면 가능한가요?', additional_kwargs={}, response_metadata={}), AIMessage(content='남녀고용평등법 자체는 4대보험에 대해 구체적으로 언급하고 있지 않습니다. 하지만 일반적으로 4대보험(국민연금, 건강보험, 고용보험, 산재보험)은 대한민국의 모든 근로자에게 적용됩니다. 각 보험은 별도의 법률에 의해 규정되며, 일반적으로 일정한 조건을 갖춘 사업장에서 근로하는 모든 직원에게 적용됩니다.\\n\\n남녀고용평등법 제3조에서는 이 법이 근로자를 사용하는 모든 사업 또는 사업장에 적용된다고 명시하고 있습니다. 다만, 대통령령으로 정하는 사업에 대하여는 이 법의 전부 또는 일부를 적용하지 않을 수 있는 예외 조항이 있습니다. 이와 유사하게 4대보험 역시 각 보험의 법령에서 특정 조건에 따라 가입 대상이나 예외 사항을 정하고 있습니다. \\n\\n따라서, 4대보험은 일반적으로 모든 사업장의 근로자에게 적용되지만, 각각의 보험법에서 명시한 조건과 예외 사항을 확인해야 합니다.', additional_kwargs={}, response_metadata={'finish_reason': 'stop', 'model_name': 'gpt-4o-2024-08-06', 'system_fingerprint': 'fp_07871e2ad8', 'service_tier': 'default'}, id='run--78d2e97d-6630-4fc9-b340-092f7698f7cc-0')])}"
      ]
     },
     "execution_count": 23,
     "metadata": {},
     "output_type": "execute_result"
    }
   ],
   "source": [
    "store"
   ]
  },
  {
   "cell_type": "code",
   "execution_count": 24,
   "id": "a70eddc5",
   "metadata": {},
   "outputs": [
    {
     "name": "stdout",
     "output_type": "stream",
     "text": [
      "Variable                         Type                          Data/Info\n",
      "------------------------------------------------------------------------\n",
      "BaseChatMessageHistory           ABCMeta                       <class 'langchain_core.ch<...>.BaseChatMessageHistory'>\n",
      "ChatOpenAI                       ModelMetaclass                <class 'langchain_openai.<...>_models.base.ChatOpenAI'>\n",
      "ChatPromptTemplate               ModelMetaclass                <class 'langchain_core.pr<...>chat.ChatPromptTemplate'>\n",
      "InMemoryChatMessageHistory       ModelMetaclass                <class 'langchain_core.ch<...>emoryChatMessageHistory'>\n",
      "RunnablePassthrough              ModelMetaclass                <class 'langchain_core.ru<...>ugh.RunnablePassthrough'>\n",
      "RunnableWithMessageHistory       ModelMetaclass                <class 'langchain_core.ru<...>nableWithMessageHistory'>\n",
      "StreamingStdOutCallbackHandler   type                          <class 'langchain_core.ca<...>ngStdOutCallbackHandler'>\n",
      "chain                            RunnableSequence              first=RunnableAssign(mapp<...>ing=True, max_tokens=512)\n",
      "file                             TextIOWrapper                 <_io.TextIOWrapper name='<...>ode='r' encoding='utf-8'>\n",
      "file_name                        str                           남녀고용평등과 일ㆍ가정 양립 지원에 관한 법률<...>률)(제20521호)(20250223).txt\n",
      "get_history                      function                      <function get_history at 0x0000027093FF8700>\n",
      "itemgetter                       type                          <class 'operator.itemgetter'>\n",
      "law                              str                           ﻿\\n남녀고용평등과 일ㆍ가정 양립 지원에 관한<...> 남아있는 육아휴직 기간에 대해서만 적용한다.\n",
      "llm                              ChatOpenAI                    callbacks=[<langchain_cor<...>aming=True max_tokens=512\n",
      "load_dotenv                      function                      <function load_dotenv at 0x0000027091612950>\n",
      "message                          AIMessage                     content=\"네, 육아휴직 지원금이 있습니<...>4a1a-9e27-dff60d8c28c3-0'\n",
      "prompt                           ChatPromptTemplate            input_variables=['law', '<...>), additional_kwargs={})]\n",
      "query                            str                           S\n",
      "store                            dict                          n=1\n",
      "template                         list                          n=3\n",
      "trim_messages                    function                      <function _runnable_suppo<...>ed at 0x0000027090431000>\n",
      "trimmer                          RunnableLambda                RunnableLambda(...)\n",
      "with_message_history             RunnableWithMessageHistory    bound=RunnableBinding(bou<...>True, dependencies=None)]\n"
     ]
    }
   ],
   "source": [
    "%whos"
   ]
  },
  {
   "cell_type": "code",
   "execution_count": 25,
   "id": "faa5ebf7",
   "metadata": {},
   "outputs": [
    {
     "data": {
      "text/plain": [
       "dict_keys(['leeji0422'])"
      ]
     },
     "execution_count": 25,
     "metadata": {},
     "output_type": "execute_result"
    }
   ],
   "source": [
    "store.keys()"
   ]
  },
  {
   "cell_type": "code",
   "execution_count": 26,
   "id": "636232c0",
   "metadata": {},
   "outputs": [
    {
     "name": "stdout",
     "output_type": "stream",
     "text": [
      "[HUMAN]: 입양을 한 경우에도 신청 가능할까요?\n",
      "\n",
      "[AI]: 네, 입양한 자녀의 경우에도 육아휴직을 신청할 수 있습니다. [제19조(육아휴직) 제1항]에 따르면, 임신 중인 여성 근로자뿐만 아니라 만 8세 이하 또는 초등학교 2학년 이하의 자녀를 양육하기 위해서라면 육아휴직을 신청할 수 있으며, 입양한 자녀도 해당됩니다.\n",
      "\n",
      "[HUMAN]: 아이를 낳고 육아휴직 신청을 했는데, 그 사이에 아이를 하나 더 가질 경우 연속으로 육아휴직 신청 가능한가요?\n",
      "\n",
      "[AI]: 네, 가능합니다. 육아휴직은 만 8세 이하 또는 초등학교 2학년 이하의 자녀를 양육하기 위하여 신청할 수 있으며, 각 자녀에 대해 육아휴직을 신청할 수 있습니다. 따라서 첫 아이의 육아휴직이 끝난 후 두 번째 아이에 대한 육아휴직을 연속적으로 신청할 수 있습니다. 이와 관련된 육아휴직 규정은 제19조에 명시되어 있습니다.\n",
      "\n",
      "[HUMAN]: 육아휴직으로 인한 정부지원금 종류가 뭐뭐 있나요\n",
      "\n",
      "[AI]: 남녀고용평등과 일ㆍ가정 양립 지원에 관한 법률에 따르면, 육아휴직과 관련하여 국가에서 지원할 수 있는 주요 지원금은 다음과 같습니다.\n",
      "\n",
      "1. **육아휴직 급여**: 고용보험에서 지원되는 급여로, 근로자가 육아휴직을 사용하는 경우 경력단절을 방지하고 생활 안정을 위해 일정 금액이 지원됩니다.\n",
      "\n",
      "2. **고용유지비용 지원**: 국가는 사업주가 근로자에게 육아휴직이나 육아기 근로시간 단축을 허용한 경우, 그 근로자의 생계비용과 사업주의 고용유지비용의 일부를 지원할 수 있습니다 (제20조 제1항).\n",
      "\n",
      "3. **세제 및 재정 지원**: 국가는 소속 근로자의 일ㆍ가정의 양립을 지원하기 위해 육아기 재택근무 등 관련 제도 도입 시 세제 및 재정 지원을 할 수 있습니다 (제20조 제2항).\n",
      "\n",
      "이 외에도 직장어린이집 설치 및 운영에 대한 지원이 있으나, 이는 육아휴직 자체와 직접 관련된 지원금이라기보다는 일·가정 양립을 지원하는 제도로 볼 수 있습니다 (제21조, 제21조의2). \n",
      "\n",
      "위 지원내용은 육아휴직을 사용하는 근로자 및 사업주가 받을 수 있는 혜택을 중심으로 언급된 것으로, 구체적인 신청 절차나 세부 사항은 관련 기관에 문의하시길 권장합니다.\n",
      "\n",
      "[HUMAN]: 육아휴직이 반려되는 기준은?\n",
      "\n",
      "[AI]: 육아휴직은 일반적으로 사업주가 허용하여야 하지만, 특정한 경우에는 이를 거절할 수 있습니다. 「남녀고용평등과 일ㆍ가정 양립 지원에 관한 법률」 제19조에 따르면 육아휴직은 임신 중인 여성 근로자 또는 만 8세 이하 또는 초등학교 2학년 이하의 자녀를 양육하기 위하여 신청하는 경우에 허용해야 합니다. 다만, 대통령령으로 정하는 경우에는 예외가 있습니다. 여기서 명시된 '대통령령으로 정하는 경우'는 구체적으로 적혀있지 않으므로, 법과 관련된 시행령 등에서 더 자세한 기준이 제시될 수 있습니다. 따라서, 육아휴직을 반려하는 구체적인 기준은 관련 대통령령을 참조하시면 확인할 수 있을 것입니다. \n",
      "\n",
      "(참고: 제19조 제1항)\n",
      "\n",
      "[HUMAN]: 4대보험을 가입한자는 어떤 업장이든 기준에 부합하면 가능한가요?\n",
      "\n",
      "[AI]: 남녀고용평등법 자체는 4대보험에 대해 구체적으로 언급하고 있지 않습니다. 하지만 일반적으로 4대보험(국민연금, 건강보험, 고용보험, 산재보험)은 대한민국의 모든 근로자에게 적용됩니다. 각 보험은 별도의 법률에 의해 규정되며, 일반적으로 일정한 조건을 갖춘 사업장에서 근로하는 모든 직원에게 적용됩니다.\n",
      "\n",
      "남녀고용평등법 제3조에서는 이 법이 근로자를 사용하는 모든 사업 또는 사업장에 적용된다고 명시하고 있습니다. 다만, 대통령령으로 정하는 사업에 대하여는 이 법의 전부 또는 일부를 적용하지 않을 수 있는 예외 조항이 있습니다. 이와 유사하게 4대보험 역시 각 보험의 법령에서 특정 조건에 따라 가입 대상이나 예외 사항을 정하고 있습니다. \n",
      "\n",
      "따라서, 4대보험은 일반적으로 모든 사업장의 근로자에게 적용되지만, 각각의 보험법에서 명시한 조건과 예외 사항을 확인해야 합니다.\n",
      "\n"
     ]
    }
   ],
   "source": [
    "for message in get_history('leeji0422').messages:\n",
    "    print(f'[{message.type.upper()}]: {message.content}\\n')"
   ]
  }
 ],
 "metadata": {
  "kernelspec": {
   "display_name": "project",
   "language": "python",
   "name": "python3"
  },
  "language_info": {
   "codemirror_mode": {
    "name": "ipython",
    "version": 3
   },
   "file_extension": ".py",
   "mimetype": "text/x-python",
   "name": "python",
   "nbconvert_exporter": "python",
   "pygments_lexer": "ipython3",
   "version": "3.10.12"
  }
 },
 "nbformat": 4,
 "nbformat_minor": 5
}
